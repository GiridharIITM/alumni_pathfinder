{
  "nbformat": 4,
  "nbformat_minor": 0,
  "metadata": {
    "colab": {
      "name": "extract_alumni_data.ipynb",
      "provenance": [],
      "collapsed_sections": [],
      "include_colab_link": true
    },
    "kernelspec": {
      "name": "python3",
      "display_name": "Python 3"
    }
  },
  "cells": [
    {
      "cell_type": "markdown",
      "metadata": {
        "id": "view-in-github",
        "colab_type": "text"
      },
      "source": [
        "<a href=\"https://colab.research.google.com/github/GiridharIITM/alumni_pathfinder/blob/main/extract_alumni_data.ipynb\" target=\"_parent\"><img src=\"https://colab.research.google.com/assets/colab-badge.svg\" alt=\"Open In Colab\"/></a>"
      ]
    },
    {
      "cell_type": "code",
      "metadata": {
        "id": "V4-83cXrsLk9"
      },
      "source": [
        "import pandas as pd\n",
        "import os, sys\n",
        "import bs4 as bs\n",
        "import urllib.request\n",
        "\n",
        "alumni_cols = ['id','name',\n",
        "               'education_start','education_end','education_inst','education_degree','education_branch','education_result',\n",
        "               'position_start','position_end','position_employer','position_title','position_pay', 'position_workhours',\n",
        "               'urls_list', 'linkedIn_url'\n",
        "               ]\n",
        "\n",
        "BASE_DIR = os.curdir\n",
        "FILE_DIR = \"textfiles\"\n",
        "os.makedirs(os.path.join(BASE_DIR,FILE_DIR), exist_ok=True)\n",
        "\n",
        "class alumni_extractor:\n",
        "\n",
        "  def __init__(self, base_url, alumni_url):\n",
        "    self.base_url = base_url\n",
        "    self.alumni_url = alumni_url\n",
        "    self.alumni_history = pd.DataFrame(columns = alumni_cols)\n",
        "    \n",
        "  def build_soup(self, url):\n",
        "    source = urllib.request.urlopen(url).read()\n",
        "    soup = bs.BeautifulSoup(source,'lxml')\n",
        "    return soup\n",
        "\n",
        "  # This function actually parses the website, and stores information. \n",
        "  # Does a bare minimum population of the alumni_history dataframe.\n",
        "  # Will be different for different institutes\n",
        "  def build_data(self):\n",
        "    pass\n",
        "\n",
        "  # This function is for NLP functionality\n",
        "  def enrich_data(self):    \n",
        "    pass\n",
        "\n",
        "class iitb_extractor(alumni_extractor):\n",
        "  def build_data(self):\n",
        "    next_page_url = self.alumni_url\n",
        "    max_new_pages = 3\n",
        "    num_new_pages = 0\n",
        "    hash_list = []\n",
        "    name_list = []\n",
        "    file_list = []\n",
        "    urls_list = []\n",
        "    edst_list = []\n",
        "    ednd_list = []\n",
        "    eddg_list = []\n",
        "    edin_list = []\n",
        "    edbr_list = []\n",
        "    while(not next_page_url is None):\n",
        "      soup = self.build_soup(next_page_url)\n",
        "      for bsname in soup.find_all('td', class_='views-field views-field-title'):\n",
        "        name = bsname.text.strip()\n",
        "        id = hash(name) % ((sys.maxsize + 1) * 2)\n",
        "        url = self.base_url + bsname.a.get('href')\n",
        "        hash_list.append(id)\n",
        "        name_list.append(name)\n",
        "        urls_list.append([url])\n",
        "        file_list.append(self.build_file(str(id), url))\n",
        "      for bsqual in soup.find_all('td', class_='views-field views-field-field-iitb-passingout'):\n",
        "        qual = bsqual.text.strip()\n",
        "        degree, yr_of_completion, branch = qual.split(', ')\n",
        "        ednd_list.append([yr_of_completion])\n",
        "        eddg_list.append([degree])\n",
        "        edin_list.append(['IIT Bombay'])\n",
        "        edbr_list.append([branch])\n",
        "      next_page_url = soup.find('a', title='Go to next page')\n",
        "      num_new_pages += 1\n",
        "      if(num_new_pages < max_new_pages and not next_page_url is None):\n",
        "        next_page_url = self.base_url + next_page_url.get('href')\n",
        "      else:\n",
        "        next_page_url = None\n",
        "    self.alumni_history['id'] = hash_list\n",
        "    self.alumni_history['name'] = name_list\n",
        "    self.alumni_history['file_list'] = file_list\n",
        "    self.alumni_history['urls_list'] = urls_list\n",
        "    self.alumni_history['education_end'] = ednd_list\n",
        "    self.alumni_history['education_degree'] = eddg_list\n",
        "    self.alumni_history['education_inst'] = edin_list\n",
        "    self.alumni_history['education_branch'] = edbr_list\n",
        "\n",
        "  def build_file(self, name, url):\n",
        "    soup = self.build_soup(url)\n",
        "    fname = os.path.join(BASE_DIR, FILE_DIR, name+'.txt')\n",
        "    textlines = []\n",
        "    for section in soup.find_all('div', class_='field-items'):\n",
        "      textlines.append(section.text.strip() + \"\\n\")\n",
        "    with open(fname, mode='w') as f:\n",
        "      f.writelines(textlines)\n",
        "    return(fname)\n"
      ],
      "execution_count": 69,
      "outputs": []
    },
    {
      "cell_type": "code",
      "metadata": {
        "id": "YLJ8ww0kffNl"
      },
      "source": [
        "iitb = iitb_extractor('https://www.alumni.iitb.ac.in/','https://www.alumni.iitb.ac.in/en/award-list/distinguished-alumnus')\n",
        "iitb.build_data()\n"
      ],
      "execution_count": 70,
      "outputs": []
    }
  ]
}